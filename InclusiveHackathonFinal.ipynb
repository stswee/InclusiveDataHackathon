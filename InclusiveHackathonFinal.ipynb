{
  "nbformat": 4,
  "nbformat_minor": 0,
  "metadata": {
    "colab": {
      "provenance": [],
      "mount_file_id": "1UGSwvuMBaxOYOrgfkkcbs8wnhFQLgMo_",
      "authorship_tag": "ABX9TyNTF0/SjhpXAQHsMs9uqJVj",
      "include_colab_link": true
    },
    "kernelspec": {
      "name": "python3",
      "display_name": "Python 3"
    },
    "language_info": {
      "name": "python"
    }
  },
  "cells": [
    {
      "cell_type": "markdown",
      "metadata": {
        "id": "view-in-github",
        "colab_type": "text"
      },
      "source": [
        "<a href=\"https://colab.research.google.com/github/stswee/InclusiveDataHackathon/blob/main/InclusiveHackathonFinal.ipynb\" target=\"_parent\"><img src=\"https://colab.research.google.com/assets/colab-badge.svg\" alt=\"Open In Colab\"/></a>"
      ]
    },
    {
      "cell_type": "code",
      "execution_count": null,
      "metadata": {
        "colab": {
          "base_uri": "https://localhost:8080/"
        },
        "id": "8tlkwfZjSS8Y",
        "outputId": "31159ef1-ea29-493f-98cc-603b5f2fb6d6"
      },
      "outputs": [
        {
          "output_type": "stream",
          "name": "stdout",
          "text": [
            "Looking in indexes: https://pypi.org/simple, https://us-python.pkg.dev/colab-wheels/public/simple/\n",
            "Requirement already satisfied: kaggle in /usr/local/lib/python3.10/dist-packages (1.5.13)\n",
            "Requirement already satisfied: six>=1.10 in /usr/local/lib/python3.10/dist-packages (from kaggle) (1.16.0)\n",
            "Requirement already satisfied: certifi in /usr/local/lib/python3.10/dist-packages (from kaggle) (2022.12.7)\n",
            "Requirement already satisfied: python-dateutil in /usr/local/lib/python3.10/dist-packages (from kaggle) (2.8.2)\n",
            "Requirement already satisfied: requests in /usr/local/lib/python3.10/dist-packages (from kaggle) (2.27.1)\n",
            "Requirement already satisfied: tqdm in /usr/local/lib/python3.10/dist-packages (from kaggle) (4.65.0)\n",
            "Requirement already satisfied: python-slugify in /usr/local/lib/python3.10/dist-packages (from kaggle) (8.0.1)\n",
            "Requirement already satisfied: urllib3 in /usr/local/lib/python3.10/dist-packages (from kaggle) (1.26.15)\n",
            "Requirement already satisfied: text-unidecode>=1.3 in /usr/local/lib/python3.10/dist-packages (from python-slugify->kaggle) (1.3)\n",
            "Requirement already satisfied: charset-normalizer~=2.0.0 in /usr/local/lib/python3.10/dist-packages (from requests->kaggle) (2.0.12)\n",
            "Requirement already satisfied: idna<4,>=2.5 in /usr/local/lib/python3.10/dist-packages (from requests->kaggle) (3.4)\n"
          ]
        }
      ],
      "source": [
        "# Preliminaries\n",
        "# May have to unmount and mount Google Drive\n",
        "! pip install kaggle\n",
        "! mkdir ~/.kaggle\n",
        "! cp /content/drive/MyDrive/kaggle.json ~/.kaggle/kaggle.json\n",
        "! chmod 600 ~/.kaggle/kaggle.json"
      ]
    },
    {
      "cell_type": "code",
      "source": [
        "# Load packages\n",
        "import numpy as np\n",
        "import pandas as pd\n",
        "from sklearn.model_selection import train_test_split\n",
        "from sklearn.metrics import accuracy_score\n",
        "import matplotlib.pyplot as plt\n",
        "from statsmodels.graphics.mosaicplot import mosaic\n",
        "from itertools import product\n",
        "# !pip install catboost\n",
        "# from catboost import CatBoostClassifier, Pool, metrics, cv\n",
        "from datetime import datetime, timedelta\n",
        "from statsmodels.graphics.mosaicplot import mosaic"
      ],
      "metadata": {
        "id": "o1AcnIumUl_y"
      },
      "execution_count": null,
      "outputs": []
    },
    {
      "cell_type": "code",
      "source": [
        "# Data Source: https://www.kaggle.com/datasets/kartik2112/fraud-detection\n",
        "! kaggle datasets download kartik2112/fraud-detection\n",
        "! unzip fraud-detection.zip"
      ],
      "metadata": {
        "colab": {
          "base_uri": "https://localhost:8080/"
        },
        "id": "n-z8qnUyS8C5",
        "outputId": "d6b6384a-cbbf-4dfb-acd1-1dd034c49a0c"
      },
      "execution_count": null,
      "outputs": [
        {
          "output_type": "stream",
          "name": "stdout",
          "text": [
            "Downloading fraud-detection.zip to /content\n",
            " 99% 199M/202M [00:01<00:00, 155MB/s]\n",
            "100% 202M/202M [00:01<00:00, 135MB/s]\n",
            "Archive:  fraud-detection.zip\n",
            "  inflating: fraudTest.csv           \n",
            "  inflating: fraudTrain.csv          \n"
          ]
        }
      ]
    },
    {
      "cell_type": "code",
      "source": [
        "# Load in data (~10s)\n",
        "df = pd.read_csv(\"fraudTrain.csv\")\n",
        "# 1296675 rows, 23 columns"
      ],
      "metadata": {
        "id": "nfPBdn2qUkOt"
      },
      "execution_count": null,
      "outputs": []
    },
    {
      "cell_type": "code",
      "source": [
        "df['Repeated'] = False"
      ],
      "metadata": {
        "id": "syaBY3dNyCbP"
      },
      "execution_count": null,
      "outputs": []
    },
    {
      "cell_type": "code",
      "source": [
        "# Add columns (to be used for data exploration and testing)\n",
        "# Add 24 hour\n",
        "def get_hour_from_unix_time(unix_time):\n",
        "    timestamp = datetime.utcfromtimestamp(unix_time)\n",
        "    hour = timestamp.strftime('%H')\n",
        "    return int(hour)\n",
        "hour = pd.Series(df['unix_time'])\n",
        "hour = hour.apply(get_hour_from_unix_time)\n",
        "df['hour'] = hour"
      ],
      "metadata": {
        "id": "zuWJ0iTRkP65"
      },
      "execution_count": null,
      "outputs": []
    },
    {
      "cell_type": "code",
      "source": [
        "# Add repeated transaction within past week\n",
        "def check_integer_repeated_within_week(dataframe, target_integer, time_threshold, amt_threshold):\n",
        "    dataframe['Datetime'] = pd.to_datetime(dataframe['unix_time'], unit='s')\n",
        "    #dataframe.sort_values(by='Datetime', inplace=True)\n",
        "    #dataframe.reset_index(drop=True, inplace=True)\n",
        "\n",
        "    threshold_time = timedelta(days = time_threshold)\n",
        "    target_integer_repeated_within_week = False\n",
        "    for i in range(1, len(dataframe)):\n",
        "        if dataframe.loc[i, 'cc_num'] == target_integer and dataframe.loc[i-1, 'cc_num'] == target_integer:\n",
        "            time_diff = dataframe.loc[i, 'Datetime'] - dataframe.loc[i-1, 'Datetime']\n",
        "            amt1 = dataframe.loc[i, 'amt']\n",
        "            amt2 = dataframe.loc[i - 1, 'amt']\n",
        "            if (time_diff <= threshold_time) and (amt1 > amt_threshold) and (amt2 > amt_threshold):\n",
        "                target_integer_repeated_within_week = True\n",
        "                break\n",
        "    return target_integer_repeated_within_week\n",
        "\n",
        "# Set time threshold (number of days)\n",
        "time_threshold = 7\n",
        "\n",
        "# Set amount threshold\n",
        "amt_threshold = 250\n",
        "\n",
        "# Determine repeats (~3 hours and 30 minutes)\n",
        "cc_num_list = {'cc_num': df['cc_num'].unique(), 'Repeated' : [False] * len(df['cc_num'].unique())}\n",
        "cc_num_list = pd.DataFrame(cc_num_list)\n",
        "for i in range(len(df['cc_num'].unique())):\n",
        "  print(i)\n",
        "  cc_num_list['Repeated'][i] = check_integer_repeated_within_week(df, cc_num_list['cc_num'][i], time_threshold, amt_threshold);\n",
        "cc_num_list.to_csv(\"cc_num_repeat.csv\", index=False)\n",
        "# df.update(cc_num_list[['Repeated']])"
      ],
      "metadata": {
        "id": "H2EsygqM0CvN"
      },
      "execution_count": null,
      "outputs": []
    },
    {
      "cell_type": "code",
      "source": [
        "# Load repeated cc numbers\n",
        "cc_num_repeat = pd.read_csv(\"cc_num_repeat.csv\")\n",
        "cc_num_repeated = cc_num_repeat.loc[cc_num_repeat['Repeated'] == True]\n",
        "cc_num_repeated = cc_num_repeated['cc_num'].unique()\n",
        "\n",
        "# Designate cc numbers as repeated\n",
        "for i in range(len(df['cc_num'])):\n",
        "  print(i)\n",
        "  if (df['cc_num'][i] in cc_num_repeated):\n",
        "    df['Repeated'][i] = True"
      ],
      "metadata": {
        "id": "Xf2a9i5Z9bgv"
      },
      "execution_count": null,
      "outputs": []
    },
    {
      "cell_type": "code",
      "source": [
        "# Save updated training data\n",
        "df.to_csv(\"fraudTrainUpdated.csv\", index = False)"
      ],
      "metadata": {
        "id": "mvvFNL4j7fye"
      },
      "execution_count": null,
      "outputs": []
    },
    {
      "cell_type": "code",
      "source": [
        "# Load in updated training data\n",
        "df = pd.read_csv(\"fraudTrainUpdated.csv\")"
      ],
      "metadata": {
        "colab": {
          "base_uri": "https://localhost:8080/"
        },
        "id": "lSkdUKYM75X1",
        "outputId": "252f9c8c-bb21-4c86-becf-bc6bd32a8d74"
      },
      "execution_count": null,
      "outputs": [
        {
          "output_type": "stream",
          "name": "stderr",
          "text": [
            "<ipython-input-4-104fdbc4d166>:2: DtypeWarning: Columns (23) have mixed types. Specify dtype option on import or set low_memory=False.\n",
            "  df = pd.read_csv(\"fraudTrainUpdated.csv\")\n"
          ]
        }
      ]
    },
    {
      "cell_type": "code",
      "source": [
        "# Get non-fraud data only (for exploratory purposes)\n",
        "df_nofraud = df[df['is_fraud'] == 0]\n",
        "# 1289169 rows, 25 columns\n",
        "\n",
        "# Get fraud data only (for exploratory purposes)\n",
        "df_fraud = df[df['is_fraud'] == 1]\n",
        "# 7506 rows, 25 columns"
      ],
      "metadata": {
        "id": "gP4XADxaYxqE"
      },
      "execution_count": null,
      "outputs": []
    },
    {
      "cell_type": "code",
      "source": [
        "# Explore amount vs. fraud\n",
        "# 1500 chose as cutoff for histogram since majority of transactions are below that value\n",
        "bins = np.linspace(0, 1500, 100)\n",
        "plt.hist([df_fraud['amt'], df_nofraud['amt']], bins, label = ['Fraud', 'No Fraud'], density = True);\n",
        "plt.legend(loc='upper right');\n",
        "\n",
        "# From histogram, appears that threshold of $250 seems reasonable in distinguishing fraud and no fraud"
      ],
      "metadata": {
        "colab": {
          "base_uri": "https://localhost:8080/",
          "height": 430
        },
        "id": "l4LdHpfJbYC-",
        "outputId": "0595ad65-8603-43ff-89cf-cedcf34a76c0"
      },
      "execution_count": null,
      "outputs": [
        {
          "output_type": "display_data",
          "data": {
            "text/plain": [
              "<Figure size 640x480 with 1 Axes>"
            ],
            "image/png": "[encoded data removed]"
          },
          "metadata": {}
        }
      ]
    },
    {
      "cell_type": "code",
      "source": [
        "# Explore time of day vs fraud\n",
        "bins = np.linspace(0, 24)\n",
        "plt.hist([df_fraud['hour'], df_nofraud['hour']], bins, label = ['Fraud', 'No Fraud'], density = True);\n",
        "plt.legend(loc='upper right');\n",
        "\n",
        "# Appears that most fraudulent transactions occur between 22:00 and 3:00"
      ],
      "metadata": {
        "colab": {
          "base_uri": "https://localhost:8080/",
          "height": 430
        },
        "id": "3rTIbs1xc9U1",
        "outputId": "acff7561-f4b0-4376-c99a-f9f8aae0baf6"
      },
      "execution_count": null,
      "outputs": [
        {
          "output_type": "display_data",
          "data": {
            "text/plain": [
              "<Figure size 640x480 with 1 Axes>"
            ],
            "image/png": "[encoded data removed]"
          },
          "metadata": {}
        }
      ]
    },
    {
      "cell_type": "code",
      "source": [
        "# Explore repeated numbers vs. fraud\n",
        "contingency_table = pd.crosstab(df['Repeated'], df['is_fraud'])\n",
        "print(contingency_table)\n",
        "\n",
        "value_00 = contingency_table.iloc[0,0] # Correct Negative\n",
        "value_01 = contingency_table.iloc[0,1] # False Negative\n",
        "value_10 = contingency_table.iloc[1,0] # Correct Positive\n",
        "value_11 = contingency_table.iloc[1,1] # False Positive\n",
        "\n",
        "accuracy = (value_00 + value_01) / (value_00 + value_01 + value_10 + value_11)\n",
        "print(accuracy * 100)\n",
        "\n",
        "# From the contingency table, we get 96% accuracy\n",
        "# However, we note that of the fraudulent cases, only 423/(7083+423) = 6% of cases were considered repeated"
      ],
      "metadata": {
        "colab": {
          "base_uri": "https://localhost:8080/"
        },
        "id": "Uc2uCDHJ6EEe",
        "outputId": "d5b764ed-d029-4d25-b6c6-b357b8f2bd84"
      },
      "execution_count": null,
      "outputs": [
        {
          "output_type": "stream",
          "name": "stdout",
          "text": [
            "is_fraud     0.0   1.0\n",
            "Repeated              \n",
            "False     740966  4309\n",
            "True       32287   276\n",
            "95.81365271431841\n"
          ]
        }
      ]
    },
    {
      "cell_type": "code",
      "source": [
        "# Set risk column (~ 15min)\n",
        "df['Risk'] = 0\n",
        "for i in range(len(df['cc_num'])):\n",
        "  print(i)\n",
        "  array = [df['amt'][i] > 250, df['hour'][i] <= 3, df['hour'][i] >= 22, df['Repeated'][i] == True]\n",
        "  count = sum(1 for value in array if value)\n",
        "  df['Risk'][i] = count"
      ],
      "metadata": {
        "id": "htzbN8jq8HcH"
      },
      "execution_count": null,
      "outputs": []
    },
    {
      "cell_type": "code",
      "source": [
        "# Save updated training data\n",
        "df.to_csv(\"fraudTrainUpdated.csv\", index = False)"
      ],
      "metadata": {
        "id": "lkkkrtDdAzkY"
      },
      "execution_count": null,
      "outputs": []
    },
    {
      "cell_type": "code",
      "source": [
        "# Plot Fraud vs. Risk\n",
        "grouped_data = df.groupby(['Risk', 'is_fraud']).size().unstack(fill_value = 0)\n",
        "grouped_data = grouped_data.div(grouped_data.sum(axis=1), axis=0)\n",
        "grouped_data.plot(kind = 'bar', stacked = False)\n",
        "plt.xlabel(\"Number of Risks\")\n",
        "plt.ylabel(\"Proportion\")\n",
        "plt.title(\"Normalized Proportion vs. Number of Risks\")\n",
        "plt.show()"
      ],
      "metadata": {
        "colab": {
          "base_uri": "https://localhost:8080/",
          "height": 480
        },
        "id": "0nuOQ451BF5X",
        "outputId": "1bf78544-bd17-45a9-b20c-bee69e01e483"
      },
      "execution_count": null,
      "outputs": [
        {
          "output_type": "display_data",
          "data": {
            "text/plain": [
              "<Figure size 640x480 with 1 Axes>"
            ],
            "image/png": "[encoded data removed]"
          },
          "metadata": {}
        }
      ]
    },
    {
      "cell_type": "code",
      "source": [
        "grouped_data"
      ],
      "metadata": {
        "colab": {
          "base_uri": "https://localhost:8080/",
          "height": 206
        },
        "id": "q3H91U8RGE-h",
        "outputId": "9c1b824f-ace6-4a26-e4bf-ba60c8778c77"
      },
      "execution_count": null,
      "outputs": [
        {
          "output_type": "execute_result",
          "data": {
            "text/plain": [
              "is_fraud         0         1\n",
              "Risk                        \n",
              "0         0.999694  0.000306\n",
              "1         0.993261  0.006739\n",
              "2         0.813407  0.186593\n",
              "3         0.525084  0.474916"
            ],
            "text/html": [
              "\n",
              "  <div id=\"df-25b27087-891f-43dd-9c03-d61d3eb0bb4f\">\n",
              "    <div class=\"colab-df-container\">\n",
              "      <div>\n",
              "<style scoped>\n",
              "    .dataframe tbody tr th:only-of-type {\n",
              "        vertical-align: middle;\n",
              "    }\n",
              "\n",
              "    .dataframe tbody tr th {\n",
              "        vertical-align: top;\n",
              "    }\n",
              "\n",
              "    .dataframe thead th {\n",
              "        text-align: right;\n",
              "    }\n",
              "</style>\n",
              "<table border=\"1\" class=\"dataframe\">\n",
              "  <thead>\n",
              "    <tr style=\"text-align: right;\">\n",
              "      <th>is_fraud</th>\n",
              "      <th>0</th>\n",
              "      <th>1</th>\n",
              "    </tr>\n",
              "    <tr>\n",
              "      <th>Risk</th>\n",
              "      <th></th>\n",
              "      <th></th>\n",
              "    </tr>\n",
              "  </thead>\n",
              "  <tbody>\n",
              "    <tr>\n",
              "      <th>0</th>\n",
              "      <td>0.999694</td>\n",
              "      <td>0.000306</td>\n",
              "    </tr>\n",
              "    <tr>\n",
              "      <th>1</th>\n",
              "      <td>0.993261</td>\n",
              "      <td>0.006739</td>\n",
              "    </tr>\n",
              "    <tr>\n",
              "      <th>2</th>\n",
              "      <td>0.813407</td>\n",
              "      <td>0.186593</td>\n",
              "    </tr>\n",
              "    <tr>\n",
              "      <th>3</th>\n",
              "      <td>0.525084</td>\n",
              "      <td>0.474916</td>\n",
              "    </tr>\n",
              "  </tbody>\n",
              "</table>\n",
              "</div>\n",
              "      <button class=\"colab-df-convert\" onclick=\"convertToInteractive('df-25b27087-891f-43dd-9c03-d61d3eb0bb4f')\"\n",
              "              title=\"Convert this dataframe to an interactive table.\"\n",
              "              style=\"display:none;\">\n",
              "        \n",
              "  <svg xmlns=\"http://www.w3.org/2000/svg\" height=\"24px\"viewBox=\"0 0 24 24\"\n",
              "       width=\"24px\">\n",
              "    <path d=\"M0 0h24v24H0V0z\" fill=\"none\"/>\n",
              "    <path d=\"M18.56 5.44l.94 2.06.94-2.06 2.06-.94-2.06-.94-.94-2.06-.94 2.06-2.06.94zm-11 1L8.5 8.5l.94-2.06 2.06-.94-2.06-.94L8.5 2.5l-.94 2.06-2.06.94zm10 10l.94 2.06.94-2.06 2.06-.94-2.06-.94-.94-2.06-.94 2.06-2.06.94z\"/><path d=\"M17.41 7.96l-1.37-1.37c-.4-.4-.92-.59-1.43-.59-.52 0-1.04.2-1.43.59L10.3 9.45l-7.72 7.72c-.78.78-.78 2.05 0 2.83L4 21.41c.39.39.9.59 1.41.59.51 0 1.02-.2 1.41-.59l7.78-7.78 2.81-2.81c.8-.78.8-2.07 0-2.86zM5.41 20L4 18.59l7.72-7.72 1.47 1.35L5.41 20z\"/>\n",
              "  </svg>\n",
              "      </button>\n",
              "      \n",
              "  <style>\n",
              "    .colab-df-container {\n",
              "      display:flex;\n",
              "      flex-wrap:wrap;\n",
              "      gap: 12px;\n",
              "    }\n",
              "\n",
              "    .colab-df-convert {\n",
              "      background-color: #E8F0FE;\n",
              "      border: none;\n",
              "      border-radius: 50%;\n",
              "      cursor: pointer;\n",
              "      display: none;\n",
              "      fill: #1967D2;\n",
              "      height: 32px;\n",
              "      padding: 0 0 0 0;\n",
              "      width: 32px;\n",
              "    }\n",
              "\n",
              "    .colab-df-convert:hover {\n",
              "      background-color: #E2EBFA;\n",
              "      box-shadow: 0px 1px 2px rgba(60, 64, 67, 0.3), 0px 1px 3px 1px rgba(60, 64, 67, 0.15);\n",
              "      fill: #174EA6;\n",
              "    }\n",
              "\n",
              "    [theme=dark] .colab-df-convert {\n",
              "      background-color: #3B4455;\n",
              "      fill: #D2E3FC;\n",
              "    }\n",
              "\n",
              "    [theme=dark] .colab-df-convert:hover {\n",
              "      background-color: #434B5C;\n",
              "      box-shadow: 0px 1px 3px 1px rgba(0, 0, 0, 0.15);\n",
              "      filter: drop-shadow(0px 1px 2px rgba(0, 0, 0, 0.3));\n",
              "      fill: #FFFFFF;\n",
              "    }\n",
              "  </style>\n",
              "\n",
              "      <script>\n",
              "        const buttonEl =\n",
              "          document.querySelector('#df-25b27087-891f-43dd-9c03-d61d3eb0bb4f button.colab-df-convert');\n",
              "        buttonEl.style.display =\n",
              "          google.colab.kernel.accessAllowed ? 'block' : 'none';\n",
              "\n",
              "        async function convertToInteractive(key) {\n",
              "          const element = document.querySelector('#df-25b27087-891f-43dd-9c03-d61d3eb0bb4f');\n",
              "          const dataTable =\n",
              "            await google.colab.kernel.invokeFunction('convertToInteractive',\n",
              "                                                     [key], {});\n",
              "          if (!dataTable) return;\n",
              "\n",
              "          const docLinkHtml = 'Like what you see? Visit the ' +\n",
              "            '<a target=\"_blank\" href=https://colab.research.google.com/notebooks/data_table.ipynb>data table notebook</a>'\n",
              "            + ' to learn more about interactive tables.';\n",
              "          element.innerHTML = '';\n",
              "          dataTable['output_type'] = 'display_data';\n",
              "          await google.colab.output.renderOutput(dataTable, element);\n",
              "          const docLink = document.createElement('div');\n",
              "          docLink.innerHTML = docLinkHtml;\n",
              "          element.appendChild(docLink);\n",
              "        }\n",
              "      </script>\n",
              "    </div>\n",
              "  </div>\n",
              "  "
            ]
          },
          "metadata": {},
          "execution_count": 57
        }
      ]
    },
    {
      "cell_type": "code",
      "source": [
        "# Load in updated training data\n",
        "df = pd.read_csv(\"fraudTrainUpdated.csv\")"
      ],
      "metadata": {
        "id": "ezaf5OmbBCVN"
      },
      "execution_count": null,
      "outputs": []
    }
  ]
}